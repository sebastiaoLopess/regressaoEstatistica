{
 "cells": [
  {
   "cell_type": "code",
   "execution_count": 1,
   "id": "a90195de",
   "metadata": {},
   "outputs": [],
   "source": [
    "import numpy as np\n",
    "import pandas as pd\n",
    "import matplotlib.pyplot as plt\n",
    "import seaborn as sns\n",
    "from sklearn.linear_model import LinearRegression\n",
    "from sklearn.model_selection import train_test_split"
   ]
  },
  {
   "cell_type": "markdown",
   "id": "fc456c7b",
   "metadata": {},
   "source": [
    "## Carregando os Dados"
   ]
  },
  {
   "cell_type": "code",
   "execution_count": 3,
   "id": "161dd5fb",
   "metadata": {},
   "outputs": [],
   "source": [
    "# Carrega o dataset\n",
    "df_dsa = pd.read_csv('Notebooks/datasetScikitLearn.csv')"
   ]
  },
  {
   "cell_type": "code",
   "execution_count": 4,
   "id": "b9261675",
   "metadata": {},
   "outputs": [
    {
     "data": {
      "text/plain": [
       "(500, 2)"
      ]
     },
     "execution_count": 4,
     "metadata": {},
     "output_type": "execute_result"
    }
   ],
   "source": [
    "df_dsa.shape"
   ]
  },
  {
   "cell_type": "code",
   "execution_count": 5,
   "id": "61d027ec",
   "metadata": {},
   "outputs": [
    {
     "data": {
      "text/plain": [
       "Index(['horas_estudo_mes', 'salario'], dtype='object')"
      ]
     },
     "execution_count": 5,
     "metadata": {},
     "output_type": "execute_result"
    }
   ],
   "source": [
    "df_dsa.columns"
   ]
  },
  {
   "cell_type": "code",
   "execution_count": 6,
   "id": "da149ecf",
   "metadata": {},
   "outputs": [
    {
     "data": {
      "text/html": [
       "<div>\n",
       "<style scoped>\n",
       "    .dataframe tbody tr th:only-of-type {\n",
       "        vertical-align: middle;\n",
       "    }\n",
       "\n",
       "    .dataframe tbody tr th {\n",
       "        vertical-align: top;\n",
       "    }\n",
       "\n",
       "    .dataframe thead th {\n",
       "        text-align: right;\n",
       "    }\n",
       "</style>\n",
       "<table border=\"1\" class=\"dataframe\">\n",
       "  <thead>\n",
       "    <tr style=\"text-align: right;\">\n",
       "      <th></th>\n",
       "      <th>horas_estudo_mes</th>\n",
       "      <th>salario</th>\n",
       "    </tr>\n",
       "  </thead>\n",
       "  <tbody>\n",
       "    <tr>\n",
       "      <th>0</th>\n",
       "      <td>57.0</td>\n",
       "      <td>6813.0</td>\n",
       "    </tr>\n",
       "    <tr>\n",
       "      <th>1</th>\n",
       "      <td>48.0</td>\n",
       "      <td>6855.0</td>\n",
       "    </tr>\n",
       "    <tr>\n",
       "      <th>2</th>\n",
       "      <td>60.0</td>\n",
       "      <td>5801.0</td>\n",
       "    </tr>\n",
       "    <tr>\n",
       "      <th>3</th>\n",
       "      <td>73.0</td>\n",
       "      <td>7431.0</td>\n",
       "    </tr>\n",
       "    <tr>\n",
       "      <th>4</th>\n",
       "      <td>46.0</td>\n",
       "      <td>5475.0</td>\n",
       "    </tr>\n",
       "  </tbody>\n",
       "</table>\n",
       "</div>"
      ],
      "text/plain": [
       "   horas_estudo_mes  salario\n",
       "0              57.0   6813.0\n",
       "1              48.0   6855.0\n",
       "2              60.0   5801.0\n",
       "3              73.0   7431.0\n",
       "4              46.0   5475.0"
      ]
     },
     "execution_count": 6,
     "metadata": {},
     "output_type": "execute_result"
    }
   ],
   "source": [
    "df_dsa.head()"
   ]
  },
  {
   "cell_type": "code",
   "execution_count": 7,
   "id": "8241ff38",
   "metadata": {},
   "outputs": [
    {
     "name": "stdout",
     "output_type": "stream",
     "text": [
      "<class 'pandas.core.frame.DataFrame'>\n",
      "RangeIndex: 500 entries, 0 to 499\n",
      "Data columns (total 2 columns):\n",
      " #   Column            Non-Null Count  Dtype  \n",
      "---  ------            --------------  -----  \n",
      " 0   horas_estudo_mes  500 non-null    float64\n",
      " 1   salario           500 non-null    float64\n",
      "dtypes: float64(2)\n",
      "memory usage: 7.9 KB\n"
     ]
    }
   ],
   "source": [
    "df_dsa.info()"
   ]
  },
  {
   "cell_type": "markdown",
   "id": "66b40b0f",
   "metadata": {},
   "source": [
    "## Análise Exploratória - Resumo Estatístico"
   ]
  },
  {
   "cell_type": "code",
   "execution_count": 8,
   "id": "e01ba259",
   "metadata": {},
   "outputs": [
    {
     "data": {
      "text/plain": [
       "horas_estudo_mes    0\n",
       "salario             0\n",
       "dtype: int64"
      ]
     },
     "execution_count": 8,
     "metadata": {},
     "output_type": "execute_result"
    }
   ],
   "source": [
    "# Verifica se há valores ausentes\n",
    "df_dsa.isnull().sum()"
   ]
  },
  {
   "cell_type": "code",
   "execution_count": 9,
   "id": "db085ac2",
   "metadata": {},
   "outputs": [
    {
     "data": {
      "text/html": [
       "<div>\n",
       "<style scoped>\n",
       "    .dataframe tbody tr th:only-of-type {\n",
       "        vertical-align: middle;\n",
       "    }\n",
       "\n",
       "    .dataframe tbody tr th {\n",
       "        vertical-align: top;\n",
       "    }\n",
       "\n",
       "    .dataframe thead th {\n",
       "        text-align: right;\n",
       "    }\n",
       "</style>\n",
       "<table border=\"1\" class=\"dataframe\">\n",
       "  <thead>\n",
       "    <tr style=\"text-align: right;\">\n",
       "      <th></th>\n",
       "      <th>horas_estudo_mes</th>\n",
       "      <th>salario</th>\n",
       "    </tr>\n",
       "  </thead>\n",
       "  <tbody>\n",
       "    <tr>\n",
       "      <th>horas_estudo_mes</th>\n",
       "      <td>1.000000</td>\n",
       "      <td>0.818576</td>\n",
       "    </tr>\n",
       "    <tr>\n",
       "      <th>salario</th>\n",
       "      <td>0.818576</td>\n",
       "      <td>1.000000</td>\n",
       "    </tr>\n",
       "  </tbody>\n",
       "</table>\n",
       "</div>"
      ],
      "text/plain": [
       "                  horas_estudo_mes   salario\n",
       "horas_estudo_mes          1.000000  0.818576\n",
       "salario                   0.818576  1.000000"
      ]
     },
     "execution_count": 9,
     "metadata": {},
     "output_type": "execute_result"
    }
   ],
   "source": [
    "# Correlação\n",
    "df_dsa.corr()"
   ]
  },
  {
   "cell_type": "code",
   "execution_count": 10,
   "id": "c7758e3f",
   "metadata": {},
   "outputs": [
    {
     "data": {
      "text/html": [
       "<div>\n",
       "<style scoped>\n",
       "    .dataframe tbody tr th:only-of-type {\n",
       "        vertical-align: middle;\n",
       "    }\n",
       "\n",
       "    .dataframe tbody tr th {\n",
       "        vertical-align: top;\n",
       "    }\n",
       "\n",
       "    .dataframe thead th {\n",
       "        text-align: right;\n",
       "    }\n",
       "</style>\n",
       "<table border=\"1\" class=\"dataframe\">\n",
       "  <thead>\n",
       "    <tr style=\"text-align: right;\">\n",
       "      <th></th>\n",
       "      <th>horas_estudo_mes</th>\n",
       "      <th>salario</th>\n",
       "    </tr>\n",
       "  </thead>\n",
       "  <tbody>\n",
       "    <tr>\n",
       "      <th>count</th>\n",
       "      <td>500.000000</td>\n",
       "      <td>500.000000</td>\n",
       "    </tr>\n",
       "    <tr>\n",
       "      <th>mean</th>\n",
       "      <td>50.060000</td>\n",
       "      <td>6018.930000</td>\n",
       "    </tr>\n",
       "    <tr>\n",
       "      <th>std</th>\n",
       "      <td>14.659406</td>\n",
       "      <td>848.697853</td>\n",
       "    </tr>\n",
       "    <tr>\n",
       "      <th>min</th>\n",
       "      <td>1.000000</td>\n",
       "      <td>3664.000000</td>\n",
       "    </tr>\n",
       "    <tr>\n",
       "      <th>25%</th>\n",
       "      <td>39.750000</td>\n",
       "      <td>5473.000000</td>\n",
       "    </tr>\n",
       "    <tr>\n",
       "      <th>50%</th>\n",
       "      <td>50.000000</td>\n",
       "      <td>6013.500000</td>\n",
       "    </tr>\n",
       "    <tr>\n",
       "      <th>75%</th>\n",
       "      <td>60.000000</td>\n",
       "      <td>6542.000000</td>\n",
       "    </tr>\n",
       "    <tr>\n",
       "      <th>max</th>\n",
       "      <td>100.000000</td>\n",
       "      <td>9348.000000</td>\n",
       "    </tr>\n",
       "  </tbody>\n",
       "</table>\n",
       "</div>"
      ],
      "text/plain": [
       "       horas_estudo_mes      salario\n",
       "count        500.000000   500.000000\n",
       "mean          50.060000  6018.930000\n",
       "std           14.659406   848.697853\n",
       "min            1.000000  3664.000000\n",
       "25%           39.750000  5473.000000\n",
       "50%           50.000000  6013.500000\n",
       "75%           60.000000  6542.000000\n",
       "max          100.000000  9348.000000"
      ]
     },
     "execution_count": 10,
     "metadata": {},
     "output_type": "execute_result"
    }
   ],
   "source": [
    "# Resumo estatístico do dataset \n",
    "df_dsa.describe()"
   ]
  },
  {
   "cell_type": "code",
   "execution_count": 11,
   "id": "dadc11cd",
   "metadata": {},
   "outputs": [
    {
     "data": {
      "text/plain": [
       "count    500.000000\n",
       "mean      50.060000\n",
       "std       14.659406\n",
       "min        1.000000\n",
       "25%       39.750000\n",
       "50%       50.000000\n",
       "75%       60.000000\n",
       "max      100.000000\n",
       "Name: horas_estudo_mes, dtype: float64"
      ]
     },
     "execution_count": 11,
     "metadata": {},
     "output_type": "execute_result"
    }
   ],
   "source": [
    "# Resumo estatístico da variável preditora\n",
    "df_dsa[\"horas_estudo_mes\"].describe()"
   ]
  },
  {
   "cell_type": "code",
   "execution_count": 12,
   "id": "d543b9e3",
   "metadata": {},
   "outputs": [
    {
     "data": {
      "text/plain": [
       "<Axes: xlabel='horas_estudo_mes', ylabel='Count'>"
      ]
     },
     "execution_count": 12,
     "metadata": {},
     "output_type": "execute_result"
    },
    {
     "data": {
      "image/png": "[encoded data removed]",
      "text/plain": [
       "<Figure size 640x480 with 1 Axes>"
      ]
     },
     "metadata": {},
     "output_type": "display_data"
    }
   ],
   "source": [
    "# Histograma da variável preditora\n",
    "sns.histplot(data = df_dsa, x = \"horas_estudo_mes\", kde = True)"
   ]
  },
  {
   "cell_type": "markdown",
   "id": "0ccf3963",
   "metadata": {},
   "source": [
    "## Preparação dos Dados"
   ]
  },
  {
   "cell_type": "code",
   "execution_count": 13,
   "id": "7c3edf11",
   "metadata": {},
   "outputs": [],
   "source": [
    "# Prepara a variável de entrada X\n",
    "# o scikit-learn recebe como parametro X somente ARRAYS NUMPY, entao temos que transformar nossa variavel em array\n",
    "X = np.array(df_dsa['horas_estudo_mes'])"
   ]
  },
  {
   "cell_type": "code",
   "execution_count": 14,
   "id": "185949b6",
   "metadata": {},
   "outputs": [],
   "source": [
    "# Ajusta o shape de X conforme solicitar o scikit-learn\n",
    "X = X.reshape(-1, 1)"
   ]
  },
  {
   "cell_type": "code",
   "execution_count": 17,
   "id": "1a5a7976",
   "metadata": {},
   "outputs": [
    {
     "data": {
      "text/plain": [
       "array([[ 57.],\n",
       "       [ 48.],\n",
       "       [ 60.],\n",
       "       [ 73.],\n",
       "       [ 46.],\n",
       "       [ 46.],\n",
       "       [ 74.],\n",
       "       [ 62.],\n",
       "       [ 43.],\n",
       "       [ 58.],\n",
       "       [ 43.],\n",
       "       [ 43.],\n",
       "       [ 54.],\n",
       "       [ 21.],\n",
       "       [ 24.],\n",
       "       [ 42.],\n",
       "       [ 35.],\n",
       "       [ 55.],\n",
       "       [ 36.],\n",
       "       [ 29.],\n",
       "       [ 72.],\n",
       "       [ 47.],\n",
       "       [ 51.],\n",
       "       [ 29.],\n",
       "       [ 42.],\n",
       "       [ 52.],\n",
       "       [ 33.],\n",
       "       [ 56.],\n",
       "       [ 41.],\n",
       "       [ 46.],\n",
       "       [ 41.],\n",
       "       [ 78.],\n",
       "       [ 50.],\n",
       "       [ 34.],\n",
       "       [ 62.],\n",
       "       [ 32.],\n",
       "       [ 53.],\n",
       "       [ 21.],\n",
       "       [ 30.],\n",
       "       [ 53.],\n",
       "       [ 61.],\n",
       "       [ 53.],\n",
       "       [ 48.],\n",
       "       [ 45.],\n",
       "       [ 28.],\n",
       "       [ 39.],\n",
       "       [ 43.],\n",
       "       [ 66.],\n",
       "       [ 55.],\n",
       "       [ 24.],\n",
       "       [ 55.],\n",
       "       [ 44.],\n",
       "       [ 40.],\n",
       "       [ 59.],\n",
       "       [ 65.],\n",
       "       [ 64.],\n",
       "       [ 37.],\n",
       "       [ 45.],\n",
       "       [ 55.],\n",
       "       [ 65.],\n",
       "       [ 43.],\n",
       "       [ 47.],\n",
       "       [ 33.],\n",
       "       [ 32.],\n",
       "       [ 62.],\n",
       "       [ 70.],\n",
       "       [ 49.],\n",
       "       [ 65.],\n",
       "       [ 55.],\n",
       "       [ 40.],\n",
       "       [ 55.],\n",
       "       [ 73.],\n",
       "       [ 49.],\n",
       "       [ 73.],\n",
       "       [ 11.],\n",
       "       [ 62.],\n",
       "       [ 51.],\n",
       "       [ 46.],\n",
       "       [ 51.],\n",
       "       [ 20.],\n",
       "       [ 47.],\n",
       "       [ 55.],\n",
       "       [ 72.],\n",
       "       [ 42.],\n",
       "       [ 38.],\n",
       "       [ 42.],\n",
       "       [ 64.],\n",
       "       [ 55.],\n",
       "       [ 42.],\n",
       "       [ 58.],\n",
       "       [ 51.],\n",
       "       [ 65.],\n",
       "       [ 39.],\n",
       "       [ 45.],\n",
       "       [ 44.],\n",
       "       [ 28.],\n",
       "       [ 54.],\n",
       "       [ 54.],\n",
       "       [ 50.],\n",
       "       [ 46.],\n",
       "       [ 29.],\n",
       "       [ 44.],\n",
       "       [ 45.],\n",
       "       [ 38.],\n",
       "       [ 48.],\n",
       "       [ 56.],\n",
       "       [ 78.],\n",
       "       [ 53.],\n",
       "       [ 54.],\n",
       "       [ 49.],\n",
       "       [ 21.],\n",
       "       [ 50.],\n",
       "       [ 51.],\n",
       "       [ 87.],\n",
       "       [ 47.],\n",
       "       [ 55.],\n",
       "       [ 49.],\n",
       "       [ 32.],\n",
       "       [ 67.],\n",
       "       [ 61.],\n",
       "       [ 62.],\n",
       "       [ 36.],\n",
       "       [ 71.],\n",
       "       [ 29.],\n",
       "       [ 59.],\n",
       "       [ 83.],\n",
       "       [ 35.],\n",
       "       [ 42.],\n",
       "       [ 51.],\n",
       "       [ 42.],\n",
       "       [ 27.],\n",
       "       [ 51.],\n",
       "       [ 34.],\n",
       "       [ 57.],\n",
       "       [ 36.],\n",
       "       [ 73.],\n",
       "       [ 38.],\n",
       "       [ 45.],\n",
       "       [ 62.],\n",
       "       [ 32.],\n",
       "       [ 53.],\n",
       "       [ 70.],\n",
       "       [ 26.],\n",
       "       [ 53.],\n",
       "       [ 54.],\n",
       "       [ 62.],\n",
       "       [ 31.],\n",
       "       [ 30.],\n",
       "       [ 58.],\n",
       "       [ 54.],\n",
       "       [ 54.],\n",
       "       [ 55.],\n",
       "       [ 40.],\n",
       "       [ 53.],\n",
       "       [ 54.],\n",
       "       [ 39.],\n",
       "       [ 78.],\n",
       "       [ 57.],\n",
       "       [ 32.],\n",
       "       [ 60.],\n",
       "       [ 35.],\n",
       "       [ 62.],\n",
       "       [ 67.],\n",
       "       [ 38.],\n",
       "       [ 64.],\n",
       "       [ 56.],\n",
       "       [ 62.],\n",
       "       [ 78.],\n",
       "       [ 46.],\n",
       "       [ 39.],\n",
       "       [ 37.],\n",
       "       [ 38.],\n",
       "       [ 49.],\n",
       "       [ 55.],\n",
       "       [ 54.],\n",
       "       [ 62.],\n",
       "       [ 50.],\n",
       "       [ 72.],\n",
       "       [ 46.],\n",
       "       [ 91.],\n",
       "       [ 59.],\n",
       "       [ 37.],\n",
       "       [ 34.],\n",
       "       [ 57.],\n",
       "       [ 47.],\n",
       "       [ 61.],\n",
       "       [ 57.],\n",
       "       [ 49.],\n",
       "       [ 37.],\n",
       "       [ 27.],\n",
       "       [ 43.],\n",
       "       [ 63.],\n",
       "       [ 53.],\n",
       "       [ 31.],\n",
       "       [ 53.],\n",
       "       [ 56.],\n",
       "       [ 37.],\n",
       "       [ 52.],\n",
       "       [ 51.],\n",
       "       [ 33.],\n",
       "       [ 55.],\n",
       "       [ 58.],\n",
       "       [ 66.],\n",
       "       [ 66.],\n",
       "       [ 29.],\n",
       "       [ 36.],\n",
       "       [ 58.],\n",
       "       [ 58.],\n",
       "       [ 58.],\n",
       "       [100.],\n",
       "       [ 59.],\n",
       "       [ 67.],\n",
       "       [ 64.],\n",
       "       [ 60.],\n",
       "       [ 45.],\n",
       "       [ 61.],\n",
       "       [ 38.],\n",
       "       [ 46.],\n",
       "       [ 43.],\n",
       "       [ 51.],\n",
       "       [ 85.],\n",
       "       [ 22.],\n",
       "       [ 60.],\n",
       "       [ 26.],\n",
       "       [ 43.],\n",
       "       [ 66.],\n",
       "       [ 51.],\n",
       "       [ 34.],\n",
       "       [ 39.],\n",
       "       [ 60.],\n",
       "       [ 39.],\n",
       "       [ 53.],\n",
       "       [ 51.],\n",
       "       [ 40.],\n",
       "       [ 82.],\n",
       "       [ 60.],\n",
       "       [ 20.],\n",
       "       [ 53.],\n",
       "       [ 40.],\n",
       "       [ 63.],\n",
       "       [ 38.],\n",
       "       [ 48.],\n",
       "       [ 58.],\n",
       "       [ 63.],\n",
       "       [ 32.],\n",
       "       [ 45.],\n",
       "       [ 43.],\n",
       "       [ 40.],\n",
       "       [ 76.],\n",
       "       [ 56.],\n",
       "       [ 31.],\n",
       "       [ 64.],\n",
       "       [ 82.],\n",
       "       [ 65.],\n",
       "       [ 27.],\n",
       "       [ 43.],\n",
       "       [ 69.],\n",
       "       [ 39.],\n",
       "       [ 57.],\n",
       "       [ 62.],\n",
       "       [ 36.],\n",
       "       [ 49.],\n",
       "       [  1.],\n",
       "       [ 35.],\n",
       "       [ 46.],\n",
       "       [ 31.],\n",
       "       [ 74.],\n",
       "       [ 29.],\n",
       "       [ 43.],\n",
       "       [ 52.],\n",
       "       [ 72.],\n",
       "       [ 28.],\n",
       "       [ 67.],\n",
       "       [ 50.],\n",
       "       [ 35.],\n",
       "       [ 57.],\n",
       "       [ 53.],\n",
       "       [ 41.],\n",
       "       [ 51.],\n",
       "       [ 44.],\n",
       "       [ 52.],\n",
       "       [ 60.],\n",
       "       [ 74.],\n",
       "       [ 31.],\n",
       "       [ 82.],\n",
       "       [ 21.],\n",
       "       [ 48.],\n",
       "       [ 59.],\n",
       "       [ 54.],\n",
       "       [ 41.],\n",
       "       [ 47.],\n",
       "       [ 43.],\n",
       "       [ 41.],\n",
       "       [ 63.],\n",
       "       [ 55.],\n",
       "       [ 40.],\n",
       "       [ 63.],\n",
       "       [ 55.],\n",
       "       [ 62.],\n",
       "       [ 59.],\n",
       "       [ 38.],\n",
       "       [ 42.],\n",
       "       [ 61.],\n",
       "       [ 59.],\n",
       "       [ 50.],\n",
       "       [ 52.],\n",
       "       [ 69.],\n",
       "       [ 41.],\n",
       "       [ 58.],\n",
       "       [ 47.],\n",
       "       [ 47.],\n",
       "       [ 66.],\n",
       "       [ 62.],\n",
       "       [ 62.],\n",
       "       [ 70.],\n",
       "       [ 50.],\n",
       "       [ 60.],\n",
       "       [ 45.],\n",
       "       [ 55.],\n",
       "       [ 48.],\n",
       "       [ 51.],\n",
       "       [ 59.],\n",
       "       [ 38.],\n",
       "       [ 81.],\n",
       "       [ 35.],\n",
       "       [ 32.],\n",
       "       [ 67.],\n",
       "       [ 62.],\n",
       "       [ 59.],\n",
       "       [ 59.],\n",
       "       [ 50.],\n",
       "       [ 37.],\n",
       "       [ 51.],\n",
       "       [ 40.],\n",
       "       [ 65.],\n",
       "       [ 48.],\n",
       "       [ 38.],\n",
       "       [ 45.],\n",
       "       [ 56.],\n",
       "       [ 42.],\n",
       "       [ 38.],\n",
       "       [ 54.],\n",
       "       [ 54.],\n",
       "       [ 42.],\n",
       "       [ 43.],\n",
       "       [ 53.],\n",
       "       [ 28.],\n",
       "       [ 29.],\n",
       "       [ 39.],\n",
       "       [ 47.],\n",
       "       [ 55.],\n",
       "       [ 72.],\n",
       "       [ 63.],\n",
       "       [ 48.],\n",
       "       [ 50.],\n",
       "       [ 35.],\n",
       "       [ 50.],\n",
       "       [ 46.],\n",
       "       [ 55.],\n",
       "       [ 38.],\n",
       "       [ 58.],\n",
       "       [ 73.],\n",
       "       [ 48.],\n",
       "       [ 56.],\n",
       "       [ 60.],\n",
       "       [ 44.],\n",
       "       [ 53.],\n",
       "       [ 50.],\n",
       "       [ 51.],\n",
       "       [ 38.],\n",
       "       [ 50.],\n",
       "       [ 57.],\n",
       "       [ 72.],\n",
       "       [ 64.],\n",
       "       [ 82.],\n",
       "       [ 38.],\n",
       "       [ 63.],\n",
       "       [ 53.],\n",
       "       [ 83.],\n",
       "       [ 38.],\n",
       "       [ 37.],\n",
       "       [ 41.],\n",
       "       [ 18.],\n",
       "       [ 42.],\n",
       "       [ 39.],\n",
       "       [ 52.],\n",
       "       [ 55.],\n",
       "       [ 78.],\n",
       "       [ 64.],\n",
       "       [ 41.],\n",
       "       [ 37.],\n",
       "       [ 57.],\n",
       "       [ 30.],\n",
       "       [ 77.],\n",
       "       [ 68.],\n",
       "       [ 43.],\n",
       "       [ 24.],\n",
       "       [ 70.],\n",
       "       [ 48.],\n",
       "       [ 69.],\n",
       "       [ 26.],\n",
       "       [ 41.],\n",
       "       [ 50.],\n",
       "       [ 51.],\n",
       "       [ 43.],\n",
       "       [ 59.],\n",
       "       [ 34.],\n",
       "       [ 48.],\n",
       "       [ 52.],\n",
       "       [ 58.],\n",
       "       [ 61.],\n",
       "       [ 33.],\n",
       "       [ 27.],\n",
       "       [ 69.],\n",
       "       [ 55.],\n",
       "       [ 39.],\n",
       "       [ 73.],\n",
       "       [ 52.],\n",
       "       [ 68.],\n",
       "       [ 51.],\n",
       "       [ 81.],\n",
       "       [ 76.],\n",
       "       [ 46.],\n",
       "       [ 65.],\n",
       "       [ 60.],\n",
       "       [ 71.],\n",
       "       [ 36.],\n",
       "       [ 60.],\n",
       "       [ 66.],\n",
       "       [ 24.],\n",
       "       [ 32.],\n",
       "       [ 19.],\n",
       "       [ 46.],\n",
       "       [ 61.],\n",
       "       [ 73.],\n",
       "       [ 51.],\n",
       "       [ 74.],\n",
       "       [ 29.],\n",
       "       [ 24.],\n",
       "       [ 49.],\n",
       "       [ 56.],\n",
       "       [ 50.],\n",
       "       [ 19.],\n",
       "       [ 49.],\n",
       "       [ 30.],\n",
       "       [ 60.],\n",
       "       [ 55.],\n",
       "       [ 36.],\n",
       "       [ 42.],\n",
       "       [ 34.],\n",
       "       [ 49.],\n",
       "       [ 64.],\n",
       "       [ 35.],\n",
       "       [ 58.],\n",
       "       [ 42.],\n",
       "       [ 38.],\n",
       "       [ 48.],\n",
       "       [ 34.],\n",
       "       [ 42.],\n",
       "       [ 32.],\n",
       "       [ 79.],\n",
       "       [ 51.],\n",
       "       [ 40.],\n",
       "       [ 53.],\n",
       "       [ 48.],\n",
       "       [ 47.],\n",
       "       [ 59.],\n",
       "       [ 61.],\n",
       "       [ 42.],\n",
       "       [ 41.],\n",
       "       [ 46.],\n",
       "       [ 15.],\n",
       "       [ 27.],\n",
       "       [ 71.],\n",
       "       [ 75.],\n",
       "       [ 46.],\n",
       "       [ 59.],\n",
       "       [ 55.],\n",
       "       [ 96.],\n",
       "       [ 67.],\n",
       "       [ 48.],\n",
       "       [ 36.],\n",
       "       [ 26.],\n",
       "       [ 53.],\n",
       "       [ 39.],\n",
       "       [ 29.],\n",
       "       [ 40.],\n",
       "       [ 34.],\n",
       "       [ 75.],\n",
       "       [ 63.],\n",
       "       [ 50.],\n",
       "       [ 72.],\n",
       "       [ 51.],\n",
       "       [ 37.],\n",
       "       [ 73.],\n",
       "       [ 58.],\n",
       "       [ 34.],\n",
       "       [ 47.],\n",
       "       [ 37.],\n",
       "       [ 29.]])"
      ]
     },
     "execution_count": 17,
     "metadata": {},
     "output_type": "execute_result"
    }
   ],
   "source": [
    "X"
   ]
  },
  {
   "cell_type": "code",
   "execution_count": 18,
   "id": "be17428a",
   "metadata": {},
   "outputs": [],
   "source": [
    "# Prepara a variável alvo\n",
    "y = df_dsa['salario']"
   ]
  },
  {
   "cell_type": "code",
   "execution_count": 19,
   "id": "acf3a26d",
   "metadata": {},
   "outputs": [
    {
     "data": {
      "image/png": "[encoded data removed]",
      "text/plain": [
       "<Figure size 640x480 with 1 Axes>"
      ]
     },
     "metadata": {},
     "output_type": "display_data"
    }
   ],
   "source": [
    "# grafico de dispersao entre x e y para entender as variaveis\n",
    "\n",
    "plt.scatter(X,y, color = \"blue\", label = \"dados reais historicos\")\n",
    "plt.xlabel(\"horas de estudo\")\n",
    "plt.ylabel(\"salario\")\n",
    "plt.legend()\n",
    "plt.show()"
   ]
  },
  {
   "cell_type": "code",
   "execution_count": 20,
   "id": "05522458",
   "metadata": {},
   "outputs": [],
   "source": [
    "# dividir dados em treinamento e teste\n",
    "# os dados sao separados entre treino e teste, conforme as variaveis que separamos do dataset\n",
    "# onde x é a variavel independente e y é a variavel dependente\n",
    "# o train_test_split faz essa divisao, o test_size indica que 20% do dataset é separado para base teste\n",
    "\n",
    "X_treino, X_teste, y_treino, y_teste = train_test_split(X,y,test_size = 0.2, random_state = 42)"
   ]
  },
  {
   "cell_type": "code",
   "execution_count": 21,
   "id": "1406a7d0",
   "metadata": {},
   "outputs": [
    {
     "data": {
      "text/plain": [
       "(400, 1)"
      ]
     },
     "execution_count": 21,
     "metadata": {},
     "output_type": "execute_result"
    }
   ],
   "source": [
    "X_treino.shape"
   ]
  },
  {
   "cell_type": "code",
   "execution_count": 22,
   "id": "e2984e3f",
   "metadata": {},
   "outputs": [
    {
     "data": {
      "text/plain": [
       "(100, 1)"
      ]
     },
     "execution_count": 22,
     "metadata": {},
     "output_type": "execute_result"
    }
   ],
   "source": [
    "X_teste.shape"
   ]
  },
  {
   "cell_type": "code",
   "execution_count": 23,
   "id": "49b6e5c4",
   "metadata": {},
   "outputs": [
    {
     "data": {
      "text/plain": [
       "(400,)"
      ]
     },
     "execution_count": 23,
     "metadata": {},
     "output_type": "execute_result"
    }
   ],
   "source": [
    "y_treino.shape"
   ]
  },
  {
   "cell_type": "code",
   "execution_count": 24,
   "id": "75afaa40",
   "metadata": {},
   "outputs": [
    {
     "data": {
      "text/plain": [
       "(100,)"
      ]
     },
     "execution_count": 24,
     "metadata": {},
     "output_type": "execute_result"
    }
   ],
   "source": [
    "y_teste.shape"
   ]
  },
  {
   "cell_type": "markdown",
   "id": "621e065d",
   "metadata": {},
   "source": [
    "Observe que a variavel x é uma matriz, enquanto a variavel y é um vetor, por isso que nós alteramos o shape da variavel x, pois o train_test_split solicita que a variavel X seja uma matriz"
   ]
  },
  {
   "cell_type": "markdown",
   "id": "98bb8337",
   "metadata": {},
   "source": [
    "## Modelagem Preditiva (Machine Learning)"
   ]
  },
  {
   "cell_type": "code",
   "execution_count": 25,
   "id": "c61d2cf5",
   "metadata": {},
   "outputs": [],
   "source": [
    "# cria o modelo de regressao linear simples\n",
    "# o modelo é criado instanciando um objeto da classe LinearRegression()\n",
    "\n",
    "modelo = LinearRegression()"
   ]
  },
  {
   "cell_type": "code",
   "execution_count": 26,
   "id": "e38b721b",
   "metadata": {},
   "outputs": [
    {
     "data": {
      "text/html": [
       "<style>#sk-container-id-1 {color: black;}#sk-container-id-1 pre{padding: 0;}#sk-container-id-1 div.sk-toggleable {background-color: white;}#sk-container-id-1 label.sk-toggleable__label {cursor: pointer;display: block;width: 100%;margin-bottom: 0;padding: 0.3em;box-sizing: border-box;text-align: center;}#sk-container-id-1 label.sk-toggleable__label-arrow:before {content: \"▸\";float: left;margin-right: 0.25em;color: #696969;}#sk-container-id-1 label.sk-toggleable__label-arrow:hover:before {color: black;}#sk-container-id-1 div.sk-estimator:hover label.sk-toggleable__label-arrow:before {color: black;}#sk-container-id-1 div.sk-toggleable__content {max-height: 0;max-width: 0;overflow: hidden;text-align: left;background-color: #f0f8ff;}#sk-container-id-1 div.sk-toggleable__content pre {margin: 0.2em;color: black;border-radius: 0.25em;background-color: #f0f8ff;}#sk-container-id-1 input.sk-toggleable__control:checked~div.sk-toggleable__content {max-height: 200px;max-width: 100%;overflow: auto;}#sk-container-id-1 input.sk-toggleable__control:checked~label.sk-toggleable__label-arrow:before {content: \"▾\";}#sk-container-id-1 div.sk-estimator input.sk-toggleable__control:checked~label.sk-toggleable__label {background-color: #d4ebff;}#sk-container-id-1 div.sk-label input.sk-toggleable__control:checked~label.sk-toggleable__label {background-color: #d4ebff;}#sk-container-id-1 input.sk-hidden--visually {border: 0;clip: rect(1px 1px 1px 1px);clip: rect(1px, 1px, 1px, 1px);height: 1px;margin: -1px;overflow: hidden;padding: 0;position: absolute;width: 1px;}#sk-container-id-1 div.sk-estimator {font-family: monospace;background-color: #f0f8ff;border: 1px dotted black;border-radius: 0.25em;box-sizing: border-box;margin-bottom: 0.5em;}#sk-container-id-1 div.sk-estimator:hover {background-color: #d4ebff;}#sk-container-id-1 div.sk-parallel-item::after {content: \"\";width: 100%;border-bottom: 1px solid gray;flex-grow: 1;}#sk-container-id-1 div.sk-label:hover label.sk-toggleable__label {background-color: #d4ebff;}#sk-container-id-1 div.sk-serial::before {content: \"\";position: absolute;border-left: 1px solid gray;box-sizing: border-box;top: 0;bottom: 0;left: 50%;z-index: 0;}#sk-container-id-1 div.sk-serial {display: flex;flex-direction: column;align-items: center;background-color: white;padding-right: 0.2em;padding-left: 0.2em;position: relative;}#sk-container-id-1 div.sk-item {position: relative;z-index: 1;}#sk-container-id-1 div.sk-parallel {display: flex;align-items: stretch;justify-content: center;background-color: white;position: relative;}#sk-container-id-1 div.sk-item::before, #sk-container-id-1 div.sk-parallel-item::before {content: \"\";position: absolute;border-left: 1px solid gray;box-sizing: border-box;top: 0;bottom: 0;left: 50%;z-index: -1;}#sk-container-id-1 div.sk-parallel-item {display: flex;flex-direction: column;z-index: 1;position: relative;background-color: white;}#sk-container-id-1 div.sk-parallel-item:first-child::after {align-self: flex-end;width: 50%;}#sk-container-id-1 div.sk-parallel-item:last-child::after {align-self: flex-start;width: 50%;}#sk-container-id-1 div.sk-parallel-item:only-child::after {width: 0;}#sk-container-id-1 div.sk-dashed-wrapped {border: 1px dashed gray;margin: 0 0.4em 0.5em 0.4em;box-sizing: border-box;padding-bottom: 0.4em;background-color: white;}#sk-container-id-1 div.sk-label label {font-family: monospace;font-weight: bold;display: inline-block;line-height: 1.2em;}#sk-container-id-1 div.sk-label-container {text-align: center;}#sk-container-id-1 div.sk-container {/* jupyter's `normalize.less` sets `[hidden] { display: none; }` but bootstrap.min.css set `[hidden] { display: none !important; }` so we also need the `!important` here to be able to override the default hidden behavior on the sphinx rendered scikit-learn.org. See: https://github.com/scikit-learn/scikit-learn/issues/21755 */display: inline-block !important;position: relative;}#sk-container-id-1 div.sk-text-repr-fallback {display: none;}</style><div id=\"sk-container-id-1\" class=\"sk-top-container\"><div class=\"sk-text-repr-fallback\"><pre>LinearRegression()</pre><b>In a Jupyter environment, please rerun this cell to show the HTML representation or trust the notebook. <br />On GitHub, the HTML representation is unable to render, please try loading this page with nbviewer.org.</b></div><div class=\"sk-container\" hidden><div class=\"sk-item\"><div class=\"sk-estimator sk-toggleable\"><input class=\"sk-toggleable__control sk-hidden--visually\" id=\"sk-estimator-id-1\" type=\"checkbox\" checked><label for=\"sk-estimator-id-1\" class=\"sk-toggleable__label sk-toggleable__label-arrow\">LinearRegression</label><div class=\"sk-toggleable__content\"><pre>LinearRegression()</pre></div></div></div></div></div>"
      ],
      "text/plain": [
       "LinearRegression()"
      ]
     },
     "execution_count": 26,
     "metadata": {},
     "output_type": "execute_result"
    }
   ],
   "source": [
    "# treinando o modelo, treinamos o modelo com o método fit do objeto criado a partir da classe LinearRegression()\n",
    "# aqui treinamos com os dados de 80% do dataset\n",
    "\n",
    "modelo.fit(X_treino,y_treino)"
   ]
  },
  {
   "cell_type": "code",
   "execution_count": 29,
   "id": "f0e71d10",
   "metadata": {},
   "outputs": [
    {
     "data": {
      "image/png": "[encoded data removed]",
      "text/plain": [
       "<Figure size 640x480 with 1 Axes>"
      ]
     },
     "metadata": {},
     "output_type": "display_data"
    }
   ],
   "source": [
    "# Visualiza a reta de regressão linear (previsões) e os dados reais usados no treinamento\n",
    "\n",
    "plt.scatter(X,y,color = \"blue\", label = \"dados reais historicos\")\n",
    "plt.plot(X,modelo.predict(X), color = \"red\", label = \"reta regressao com as previsoes do modelo\")\n",
    "plt.xlabel(\"horas de estudo\")\n",
    "plt.ylabel(\"salario\")\n",
    "plt.legend()\n",
    "plt.show()"
   ]
  },
  {
   "cell_type": "code",
   "execution_count": 30,
   "id": "634b9169",
   "metadata": {},
   "outputs": [
    {
     "name": "stdout",
     "output_type": "stream",
     "text": [
      "coeficiente r2: 0.59\n"
     ]
    }
   ],
   "source": [
    "# avalia o modelo nos dados de teste\n",
    "# atraves do metodo score com os dados de teste, podemos testar a acuracia do nosso modelo\n",
    "\n",
    "score = modelo.score(X_teste, y_teste)\n",
    "print(f\"coeficiente r2: {score:.2f}\")"
   ]
  },
  {
   "cell_type": "markdown",
   "id": "60bae5b8",
   "metadata": {},
   "source": [
    "os parametro w0 e w1 são os parametros que explicam a regressao que foi feita a partir do treino do modelo. eses parametros são utilizados na equação que define a reta de regressao, considerando o dado de entrada X, calcula o resultado y da formula. São esses dados que ficam gravados para que possamos realizar o deploy do modelo, os dados ficam salvos para serem utilizados quando\n",
    "quisermos fazer uma predicao do modelo com dados de entrada desconhecidos"
   ]
  },
  {
   "cell_type": "code",
   "execution_count": 31,
   "id": "3f62993b",
   "metadata": {},
   "outputs": [
    {
     "data": {
      "text/plain": [
       "3596.7837243727527"
      ]
     },
     "execution_count": 31,
     "metadata": {},
     "output_type": "execute_result"
    }
   ],
   "source": [
    "# Intercepto - parâmetro w0\n",
    "modelo.intercept_"
   ]
  },
  {
   "cell_type": "code",
   "execution_count": 32,
   "id": "c9f77eb9",
   "metadata": {},
   "outputs": [
    {
     "data": {
      "text/plain": [
       "array([48.18185277])"
      ]
     },
     "execution_count": 32,
     "metadata": {},
     "output_type": "execute_result"
    }
   ],
   "source": [
    "# Slope - parâmetro w1\n",
    "modelo.coef_"
   ]
  },
  {
   "cell_type": "markdown",
   "id": "ffa5b582",
   "metadata": {},
   "source": [
    "Algoritmo de Regressão Linear:\n",
    "\n",
    "![DSA](Notebooks/reglinear.png)"
   ]
  },
  {
   "cell_type": "markdown",
   "id": "4685520c",
   "metadata": {},
   "source": [
    "## Deploy do Modelo\n",
    "\n",
    "Usaremos o modelo para prever o salário com base nas horas de estudo.\n",
    "\n",
    "O deploy é a aplicacao do modelo com base em dados novos de entrada. A funcao predict aplica a formula da regressao com os parametros que foram descobertos pelo modelo, conforme explicado acima.\n",
    "\n",
    "Com os parametros salvos apos o treinamento do modelo, podemos utilizar o modelo na nossa maquina, ou podemos subir o modelo em um servidor remoto, e disponibilizar uma api que se conecta ao modelo fazendo as predicoes"
   ]
  },
  {
   "cell_type": "code",
   "execution_count": 34,
   "id": "daaf288d",
   "metadata": {},
   "outputs": [
    {
     "name": "stdout",
     "output_type": "stream",
     "text": [
      "Se você estudar cerca de [[48]] horas por mês seu salário pode ser igual a [5909.5126574]\n"
     ]
    }
   ],
   "source": [
    "# Define um novo valor para horas de estudo\n",
    "\n",
    "horas_estudo_novo = np.array([[48]])\n",
    "\n",
    "# fazendo a previsao com o modelo\n",
    "\n",
    "salario_previsto = modelo.predict(horas_estudo_novo)\n",
    "\n",
    "print(f\"Se você estudar cerca de\", horas_estudo_novo, \"horas por mês seu salário pode ser igual a\", salario_previsto)"
   ]
  },
  {
   "cell_type": "code",
   "execution_count": 37,
   "id": "5b94947b",
   "metadata": {},
   "outputs": [
    {
     "name": "stdout",
     "output_type": "stream",
     "text": [
      "[[5909.5126574]]\n"
     ]
    }
   ],
   "source": [
    "# utilizando os parametros w0 e w1 manual para mostrar que sera igual ao fazer com o metodo predict\n",
    "\n",
    "salario = modelo.intercept_ + (modelo.coef_ * horas_estudo_novo)\n",
    "print(salario)"
   ]
  },
  {
   "cell_type": "code",
   "execution_count": 38,
   "id": "98e0d4aa",
   "metadata": {},
   "outputs": [
    {
     "name": "stdout",
     "output_type": "stream",
     "text": [
      "Se você estudar cerca de [[65]] horas por mês seu salário pode ser igual a [6728.60415452]\n"
     ]
    }
   ],
   "source": [
    "# Define um novo valor para horas de estudo\n",
    "horas_estudo_novo = np.array([[65]]) \n",
    "\n",
    "# Faz previsão com o modelo treinado\n",
    "salario_previsto = modelo.predict(horas_estudo_novo)\n",
    "\n",
    "print(f\"Se você estudar cerca de\", horas_estudo_novo, \"horas por mês seu salário pode ser igual a\", salario_previsto)"
   ]
  },
  {
   "cell_type": "code",
   "execution_count": 41,
   "id": "47e9f48f",
   "metadata": {},
   "outputs": [
    {
     "name": "stdout",
     "output_type": "stream",
     "text": [
      "Se você estudar cerca de [[48]] horas por mês seu salário pode ser igual a [5909.5126574]\n"
     ]
    }
   ],
   "source": [
    "# Define um novo valor para horas de estudo\n",
    "horas_estudo_novo = np.array([[48]]) \n",
    "\n",
    "# Faz previsão com o modelo treinado\n",
    "salario_previsto = modelo.predict(horas_estudo_novo)\n",
    "\n",
    "print(f\"Se você estudar cerca de\", horas_estudo_novo, \"horas por mês seu salário pode ser igual a\", salario_previsto)"
   ]
  },
  {
   "cell_type": "code",
   "execution_count": null,
   "id": "c7ecfb0f",
   "metadata": {},
   "outputs": [],
   "source": []
  }
 ],
 "metadata": {
  "kernelspec": {
   "display_name": "Python 3 (ipykernel)",
   "language": "python",
   "name": "python3"
  },
  "language_info": {
   "codemirror_mode": {
    "name": "ipython",
    "version": 3
   },
   "file_extension": ".py",
   "mimetype": "text/x-python",
   "name": "python",
   "nbconvert_exporter": "python",
   "pygments_lexer": "ipython3",
   "version": "3.11.5"
  }
 },
 "nbformat": 4,
 "nbformat_minor": 5
}
